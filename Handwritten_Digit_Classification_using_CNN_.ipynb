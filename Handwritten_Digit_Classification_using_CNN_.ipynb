{
  "nbformat": 4,
  "nbformat_minor": 0,
  "metadata": {
    "colab": {
      "name": "Handwritten Digit Classification  using CNN .ipynb",
      "provenance": [],
      "collapsed_sections": []
    },
    "kernelspec": {
      "name": "python3",
      "display_name": "Python 3"
    },
    "language_info": {
      "name": "python"
    }
  },
  "cells": [
    {
      "cell_type": "code",
      "metadata": {
        "id": "ckFjv6ptMFZc"
      },
      "source": [
        "import numpy as np \n",
        "import pandas as pd\n",
        "%matplotlib inline\n",
        "import matplotlib.pyplot as plt\n",
        "import matplotlib as mpl\n",
        "import tensorflow as tf\n",
        "from tensorflow import keras"
      ],
      "execution_count": 1,
      "outputs": []
    },
    {
      "cell_type": "code",
      "metadata": {
        "id": "8R_fjpQAMQn_"
      },
      "source": [
        "digit_mnist = keras.datasets.mnist\n"
      ],
      "execution_count": 5,
      "outputs": []
    },
    {
      "cell_type": "code",
      "metadata": {
        "id": "i08St3IrM5rr"
      },
      "source": [
        "(X_train_full, Y_train_full), (X_test, Y_test) = digit_mnist.load_data()"
      ],
      "execution_count": 6,
      "outputs": []
    },
    {
      "cell_type": "code",
      "metadata": {
        "id": "H3LbkHcLNceR"
      },
      "source": [
        "class_name =[\"0\", \" 1\", \" 2\", \"3\", \"4\",\"5\", \"6\", \"7\", \"8\",\"9\"]"
      ],
      "execution_count": 7,
      "outputs": []
    },
    {
      "cell_type": "code",
      "metadata": {
        "id": "MxiM0hZPOwH-"
      },
      "source": [
        "\n",
        "X_train_full = X_train_full.reshape((60000, 28, 28, 1))\n",
        "X_test = X_test.reshape((10000, 28, 28, 1))"
      ],
      "execution_count": 8,
      "outputs": []
    },
    {
      "cell_type": "markdown",
      "metadata": {
        "id": "rxWcre7wO1Ol"
      },
      "source": [
        "Data normalization"
      ]
    },
    {
      "cell_type": "code",
      "metadata": {
        "id": "fV4c8WRTOxIC"
      },
      "source": [
        "X_train_n = X_train_full / 255.\n",
        "X_test_n = X_test / 255."
      ],
      "execution_count": 9,
      "outputs": []
    },
    {
      "cell_type": "code",
      "metadata": {
        "id": "TXb14DwWO4QP"
      },
      "source": [
        "X_valid, X_train = X_train_n[:5000], X_train_n[5000:]\n",
        "Y_valid, Y_train = Y_train_full[:5000], Y_train_full[5000:]\n",
        "X_test = X_test_n"
      ],
      "execution_count": 10,
      "outputs": []
    },
    {
      "cell_type": "code",
      "metadata": {
        "id": "1CM-mFXFPYvu"
      },
      "source": [
        "np.random.seed(42)\n",
        "tf.random.set_seed(42)"
      ],
      "execution_count": 11,
      "outputs": []
    },
    {
      "cell_type": "markdown",
      "metadata": {
        "id": "gNzizR3TPbkK"
      },
      "source": [
        "\n",
        "create model cnn"
      ]
    },
    {
      "cell_type": "code",
      "metadata": {
        "id": "yva__lq_PcF9"
      },
      "source": [
        "model = keras.models.Sequential()\n",
        "model.add(keras.layers.Conv2D(filters= 32, kernel_size= (3,3), strides=1, padding='valid', activation='relu', input_shape=(28, 28, 1)))\n",
        "model.add(keras.layers.MaxPool2D((2, 2)))\n",
        "\n",
        "model.add(keras.layers.Flatten())\n",
        "model.add(keras.layers.Dense(200, activation=\"relu\"))\n",
        "model.add(keras.layers.Dense(100, activation=\"softmax\"))"
      ],
      "execution_count": 14,
      "outputs": []
    },
    {
      "cell_type": "code",
      "metadata": {
        "colab": {
          "base_uri": "https://localhost:8080/"
        },
        "id": "x0zikKxrQEBA",
        "outputId": "53cc7b4b-d97a-4ffc-a101-b37da8121184"
      },
      "source": [
        "model.summary()"
      ],
      "execution_count": 15,
      "outputs": [
        {
          "output_type": "stream",
          "name": "stdout",
          "text": [
            "Model: \"sequential_1\"\n",
            "_________________________________________________________________\n",
            "Layer (type)                 Output Shape              Param #   \n",
            "=================================================================\n",
            "conv2d_1 (Conv2D)            (None, 26, 26, 32)        320       \n",
            "_________________________________________________________________\n",
            "max_pooling2d_1 (MaxPooling2 (None, 13, 13, 32)        0         \n",
            "_________________________________________________________________\n",
            "flatten_1 (Flatten)          (None, 5408)              0         \n",
            "_________________________________________________________________\n",
            "dense_3 (Dense)              (None, 200)               1081800   \n",
            "_________________________________________________________________\n",
            "dense_4 (Dense)              (None, 100)               20100     \n",
            "=================================================================\n",
            "Total params: 1,102,220\n",
            "Trainable params: 1,102,220\n",
            "Non-trainable params: 0\n",
            "_________________________________________________________________\n"
          ]
        }
      ]
    },
    {
      "cell_type": "code",
      "metadata": {
        "id": "74R2lnWtQErJ"
      },
      "source": [
        "model.compile(loss=\"sparse_categorical_crossentropy\",\n",
        "              optimizer=\"sgd\",\n",
        "              metrics=[\"accuracy\"])"
      ],
      "execution_count": 16,
      "outputs": []
    },
    {
      "cell_type": "code",
      "metadata": {
        "colab": {
          "base_uri": "https://localhost:8080/"
        },
        "id": "-zsHt1icQ-rO",
        "outputId": "c742d68e-6558-4769-a95b-5c05fa053e3b"
      },
      "source": [
        "model_history = model.fit(X_train, Y_train, epochs=60, batch_size= 64,\n",
        "                          validation_data=(X_valid, Y_valid))\n"
      ],
      "execution_count": 17,
      "outputs": [
        {
          "output_type": "stream",
          "name": "stdout",
          "text": [
            "Epoch 1/60\n",
            "860/860 [==============================] - 29s 33ms/step - loss: 0.7625 - accuracy: 0.8089 - val_loss: 0.3094 - val_accuracy: 0.9124\n",
            "Epoch 2/60\n",
            "860/860 [==============================] - 28s 33ms/step - loss: 0.3045 - accuracy: 0.9110 - val_loss: 0.2584 - val_accuracy: 0.9260\n",
            "Epoch 3/60\n",
            "860/860 [==============================] - 29s 33ms/step - loss: 0.2529 - accuracy: 0.9265 - val_loss: 0.2071 - val_accuracy: 0.9402\n",
            "Epoch 4/60\n",
            "860/860 [==============================] - 29s 33ms/step - loss: 0.2141 - accuracy: 0.9367 - val_loss: 0.1842 - val_accuracy: 0.9470\n",
            "Epoch 5/60\n",
            "860/860 [==============================] - 28s 33ms/step - loss: 0.1857 - accuracy: 0.9453 - val_loss: 0.1645 - val_accuracy: 0.9520\n",
            "Epoch 6/60\n",
            "860/860 [==============================] - 28s 33ms/step - loss: 0.1647 - accuracy: 0.9521 - val_loss: 0.1485 - val_accuracy: 0.9600\n",
            "Epoch 7/60\n",
            "860/860 [==============================] - 29s 33ms/step - loss: 0.1472 - accuracy: 0.9565 - val_loss: 0.1285 - val_accuracy: 0.9634\n",
            "Epoch 8/60\n",
            "860/860 [==============================] - 29s 33ms/step - loss: 0.1333 - accuracy: 0.9604 - val_loss: 0.1635 - val_accuracy: 0.9488\n",
            "Epoch 9/60\n",
            "860/860 [==============================] - 29s 33ms/step - loss: 0.1218 - accuracy: 0.9644 - val_loss: 0.1115 - val_accuracy: 0.9676\n",
            "Epoch 10/60\n",
            "860/860 [==============================] - 29s 33ms/step - loss: 0.1129 - accuracy: 0.9665 - val_loss: 0.1055 - val_accuracy: 0.9666\n",
            "Epoch 11/60\n",
            "860/860 [==============================] - 29s 33ms/step - loss: 0.1044 - accuracy: 0.9692 - val_loss: 0.0994 - val_accuracy: 0.9710\n",
            "Epoch 12/60\n",
            "860/860 [==============================] - 29s 33ms/step - loss: 0.0970 - accuracy: 0.9717 - val_loss: 0.1177 - val_accuracy: 0.9610\n",
            "Epoch 13/60\n",
            "860/860 [==============================] - 29s 34ms/step - loss: 0.0913 - accuracy: 0.9727 - val_loss: 0.0971 - val_accuracy: 0.9692\n",
            "Epoch 14/60\n",
            "860/860 [==============================] - 29s 34ms/step - loss: 0.0854 - accuracy: 0.9747 - val_loss: 0.0923 - val_accuracy: 0.9730\n",
            "Epoch 15/60\n",
            "860/860 [==============================] - 29s 34ms/step - loss: 0.0810 - accuracy: 0.9761 - val_loss: 0.0866 - val_accuracy: 0.9734\n",
            "Epoch 16/60\n",
            "860/860 [==============================] - 29s 34ms/step - loss: 0.0762 - accuracy: 0.9772 - val_loss: 0.0789 - val_accuracy: 0.9752\n",
            "Epoch 17/60\n",
            "860/860 [==============================] - 29s 33ms/step - loss: 0.0722 - accuracy: 0.9787 - val_loss: 0.0779 - val_accuracy: 0.9746\n",
            "Epoch 18/60\n",
            "860/860 [==============================] - 29s 33ms/step - loss: 0.0691 - accuracy: 0.9799 - val_loss: 0.0795 - val_accuracy: 0.9760\n",
            "Epoch 19/60\n",
            "860/860 [==============================] - 29s 34ms/step - loss: 0.0658 - accuracy: 0.9809 - val_loss: 0.0737 - val_accuracy: 0.9772\n",
            "Epoch 20/60\n",
            "860/860 [==============================] - 29s 34ms/step - loss: 0.0630 - accuracy: 0.9811 - val_loss: 0.0733 - val_accuracy: 0.9780\n",
            "Epoch 21/60\n",
            "860/860 [==============================] - 29s 34ms/step - loss: 0.0602 - accuracy: 0.9822 - val_loss: 0.0668 - val_accuracy: 0.9796\n",
            "Epoch 22/60\n",
            "860/860 [==============================] - 29s 34ms/step - loss: 0.0577 - accuracy: 0.9827 - val_loss: 0.0680 - val_accuracy: 0.9796\n",
            "Epoch 23/60\n",
            "860/860 [==============================] - 29s 34ms/step - loss: 0.0558 - accuracy: 0.9837 - val_loss: 0.0756 - val_accuracy: 0.9758\n",
            "Epoch 24/60\n",
            "860/860 [==============================] - 29s 34ms/step - loss: 0.0532 - accuracy: 0.9840 - val_loss: 0.0694 - val_accuracy: 0.9796\n",
            "Epoch 25/60\n",
            "860/860 [==============================] - 29s 34ms/step - loss: 0.0510 - accuracy: 0.9849 - val_loss: 0.0646 - val_accuracy: 0.9802\n",
            "Epoch 26/60\n",
            "860/860 [==============================] - 29s 34ms/step - loss: 0.0488 - accuracy: 0.9859 - val_loss: 0.0618 - val_accuracy: 0.9810\n",
            "Epoch 27/60\n",
            "860/860 [==============================] - 29s 34ms/step - loss: 0.0474 - accuracy: 0.9860 - val_loss: 0.0651 - val_accuracy: 0.9798\n",
            "Epoch 28/60\n",
            "860/860 [==============================] - 29s 34ms/step - loss: 0.0457 - accuracy: 0.9862 - val_loss: 0.0651 - val_accuracy: 0.9800\n",
            "Epoch 29/60\n",
            "860/860 [==============================] - 29s 33ms/step - loss: 0.0433 - accuracy: 0.9868 - val_loss: 0.0592 - val_accuracy: 0.9812\n",
            "Epoch 30/60\n",
            "860/860 [==============================] - 29s 34ms/step - loss: 0.0418 - accuracy: 0.9876 - val_loss: 0.0584 - val_accuracy: 0.9802\n",
            "Epoch 31/60\n",
            "860/860 [==============================] - 29s 34ms/step - loss: 0.0403 - accuracy: 0.9879 - val_loss: 0.0775 - val_accuracy: 0.9780\n",
            "Epoch 32/60\n",
            "860/860 [==============================] - 29s 34ms/step - loss: 0.0390 - accuracy: 0.9882 - val_loss: 0.0574 - val_accuracy: 0.9818\n",
            "Epoch 33/60\n",
            "860/860 [==============================] - 29s 33ms/step - loss: 0.0377 - accuracy: 0.9889 - val_loss: 0.0555 - val_accuracy: 0.9810\n",
            "Epoch 34/60\n",
            "860/860 [==============================] - 29s 34ms/step - loss: 0.0367 - accuracy: 0.9890 - val_loss: 0.0632 - val_accuracy: 0.9784\n",
            "Epoch 35/60\n",
            "860/860 [==============================] - 29s 33ms/step - loss: 0.0349 - accuracy: 0.9894 - val_loss: 0.0567 - val_accuracy: 0.9826\n",
            "Epoch 36/60\n",
            "860/860 [==============================] - 29s 34ms/step - loss: 0.0331 - accuracy: 0.9903 - val_loss: 0.0611 - val_accuracy: 0.9806\n",
            "Epoch 37/60\n",
            "860/860 [==============================] - 29s 34ms/step - loss: 0.0322 - accuracy: 0.9902 - val_loss: 0.0545 - val_accuracy: 0.9842\n",
            "Epoch 38/60\n",
            "860/860 [==============================] - 29s 34ms/step - loss: 0.0312 - accuracy: 0.9911 - val_loss: 0.0562 - val_accuracy: 0.9810\n",
            "Epoch 39/60\n",
            "860/860 [==============================] - 29s 34ms/step - loss: 0.0298 - accuracy: 0.9911 - val_loss: 0.0602 - val_accuracy: 0.9800\n",
            "Epoch 40/60\n",
            "860/860 [==============================] - 29s 34ms/step - loss: 0.0289 - accuracy: 0.9917 - val_loss: 0.0606 - val_accuracy: 0.9782\n",
            "Epoch 41/60\n",
            "860/860 [==============================] - 29s 34ms/step - loss: 0.0279 - accuracy: 0.9919 - val_loss: 0.0521 - val_accuracy: 0.9820\n",
            "Epoch 42/60\n",
            "860/860 [==============================] - 29s 34ms/step - loss: 0.0268 - accuracy: 0.9924 - val_loss: 0.0510 - val_accuracy: 0.9832\n",
            "Epoch 43/60\n",
            "860/860 [==============================] - 29s 34ms/step - loss: 0.0261 - accuracy: 0.9927 - val_loss: 0.0527 - val_accuracy: 0.9844\n",
            "Epoch 44/60\n",
            "860/860 [==============================] - 29s 34ms/step - loss: 0.0253 - accuracy: 0.9932 - val_loss: 0.0523 - val_accuracy: 0.9826\n",
            "Epoch 45/60\n",
            "860/860 [==============================] - 29s 34ms/step - loss: 0.0241 - accuracy: 0.9933 - val_loss: 0.0563 - val_accuracy: 0.9822\n",
            "Epoch 46/60\n",
            "860/860 [==============================] - 29s 34ms/step - loss: 0.0237 - accuracy: 0.9933 - val_loss: 0.0551 - val_accuracy: 0.9814\n",
            "Epoch 47/60\n",
            "860/860 [==============================] - 29s 34ms/step - loss: 0.0229 - accuracy: 0.9938 - val_loss: 0.0521 - val_accuracy: 0.9830\n",
            "Epoch 48/60\n",
            "860/860 [==============================] - 29s 34ms/step - loss: 0.0216 - accuracy: 0.9945 - val_loss: 0.0529 - val_accuracy: 0.9830\n",
            "Epoch 49/60\n",
            "860/860 [==============================] - 29s 34ms/step - loss: 0.0209 - accuracy: 0.9946 - val_loss: 0.0506 - val_accuracy: 0.9846\n",
            "Epoch 50/60\n",
            "860/860 [==============================] - 29s 34ms/step - loss: 0.0205 - accuracy: 0.9945 - val_loss: 0.0776 - val_accuracy: 0.9750\n",
            "Epoch 51/60\n",
            "860/860 [==============================] - 29s 34ms/step - loss: 0.0200 - accuracy: 0.9945 - val_loss: 0.0537 - val_accuracy: 0.9842\n",
            "Epoch 52/60\n",
            "860/860 [==============================] - 29s 34ms/step - loss: 0.0191 - accuracy: 0.9950 - val_loss: 0.0605 - val_accuracy: 0.9798\n",
            "Epoch 53/60\n",
            "860/860 [==============================] - 29s 34ms/step - loss: 0.0187 - accuracy: 0.9950 - val_loss: 0.0512 - val_accuracy: 0.9848\n",
            "Epoch 54/60\n",
            "860/860 [==============================] - 29s 34ms/step - loss: 0.0178 - accuracy: 0.9956 - val_loss: 0.0502 - val_accuracy: 0.9842\n",
            "Epoch 55/60\n",
            "860/860 [==============================] - 29s 34ms/step - loss: 0.0172 - accuracy: 0.9957 - val_loss: 0.0568 - val_accuracy: 0.9814\n",
            "Epoch 56/60\n",
            "860/860 [==============================] - 29s 34ms/step - loss: 0.0167 - accuracy: 0.9958 - val_loss: 0.0707 - val_accuracy: 0.9776\n",
            "Epoch 57/60\n",
            "860/860 [==============================] - 29s 34ms/step - loss: 0.0163 - accuracy: 0.9961 - val_loss: 0.0531 - val_accuracy: 0.9832\n",
            "Epoch 58/60\n",
            "860/860 [==============================] - 29s 34ms/step - loss: 0.0157 - accuracy: 0.9963 - val_loss: 0.0509 - val_accuracy: 0.9850\n",
            "Epoch 59/60\n",
            "860/860 [==============================] - 29s 34ms/step - loss: 0.0149 - accuracy: 0.9966 - val_loss: 0.0520 - val_accuracy: 0.9838\n",
            "Epoch 60/60\n",
            "860/860 [==============================] - 29s 34ms/step - loss: 0.0147 - accuracy: 0.9967 - val_loss: 0.0568 - val_accuracy: 0.9812\n"
          ]
        }
      ]
    },
    {
      "cell_type": "code",
      "metadata": {
        "colab": {
          "base_uri": "https://localhost:8080/"
        },
        "id": "l5M7kzCvYZmB",
        "outputId": "522b5453-8215-4096-fce4-802961614bc4"
      },
      "source": [
        "\n",
        "model_history.history"
      ],
      "execution_count": 18,
      "outputs": [
        {
          "output_type": "execute_result",
          "data": {
            "text/plain": [
              "{'accuracy': [0.8089454770088196,\n",
              "  0.9109818339347839,\n",
              "  0.9264909029006958,\n",
              "  0.9367091059684753,\n",
              "  0.9453272819519043,\n",
              "  0.9520909190177917,\n",
              "  0.9564727544784546,\n",
              "  0.960418164730072,\n",
              "  0.9644363522529602,\n",
              "  0.9665091037750244,\n",
              "  0.9691818356513977,\n",
              "  0.9717090725898743,\n",
              "  0.9727272987365723,\n",
              "  0.9747090935707092,\n",
              "  0.9761454463005066,\n",
              "  0.9772363901138306,\n",
              "  0.9786909222602844,\n",
              "  0.9798908829689026,\n",
              "  0.9808545708656311,\n",
              "  0.9811272621154785,\n",
              "  0.982236385345459,\n",
              "  0.9827272891998291,\n",
              "  0.9837272763252258,\n",
              "  0.984000027179718,\n",
              "  0.9849091172218323,\n",
              "  0.985872745513916,\n",
              "  0.986018180847168,\n",
              "  0.9861636161804199,\n",
              "  0.9868000149726868,\n",
              "  0.9876182079315186,\n",
              "  0.987927258014679,\n",
              "  0.9881818294525146,\n",
              "  0.9888727068901062,\n",
              "  0.9890000224113464,\n",
              "  0.9894363880157471,\n",
              "  0.9903272986412048,\n",
              "  0.9901818037033081,\n",
              "  0.9910545349121094,\n",
              "  0.9911454319953918,\n",
              "  0.9916545748710632,\n",
              "  0.9919090867042542,\n",
              "  0.9924363493919373,\n",
              "  0.9927272796630859,\n",
              "  0.9931636452674866,\n",
              "  0.9932727217674255,\n",
              "  0.993254542350769,\n",
              "  0.9938181638717651,\n",
              "  0.9945091009140015,\n",
              "  0.994563639163971,\n",
              "  0.994490921497345,\n",
              "  0.9945454597473145,\n",
              "  0.9950000047683716,\n",
              "  0.9950181841850281,\n",
              "  0.9956363439559937,\n",
              "  0.9956908822059631,\n",
              "  0.9958000183105469,\n",
              "  0.9961272478103638,\n",
              "  0.99632728099823,\n",
              "  0.9965999722480774,\n",
              "  0.9966727495193481],\n",
              " 'loss': [0.7624573111534119,\n",
              "  0.3045443594455719,\n",
              "  0.25292518734931946,\n",
              "  0.21409495174884796,\n",
              "  0.18571600317955017,\n",
              "  0.16471761465072632,\n",
              "  0.14719811081886292,\n",
              "  0.13326935470104218,\n",
              "  0.121823251247406,\n",
              "  0.11292056739330292,\n",
              "  0.10440390557050705,\n",
              "  0.09695994108915329,\n",
              "  0.09133613854646683,\n",
              "  0.08542615175247192,\n",
              "  0.08100701123476028,\n",
              "  0.07617335766553879,\n",
              "  0.07222907990217209,\n",
              "  0.06909117847681046,\n",
              "  0.06578100472688675,\n",
              "  0.06303246319293976,\n",
              "  0.06016373261809349,\n",
              "  0.05770985409617424,\n",
              "  0.05578923225402832,\n",
              "  0.053152356296777725,\n",
              "  0.050951309502124786,\n",
              "  0.04881971701979637,\n",
              "  0.047370247542858124,\n",
              "  0.045703332871198654,\n",
              "  0.04327576234936714,\n",
              "  0.04180053994059563,\n",
              "  0.04030134901404381,\n",
              "  0.03898344188928604,\n",
              "  0.03765690699219704,\n",
              "  0.036660052835941315,\n",
              "  0.034948017448186874,\n",
              "  0.03311127424240112,\n",
              "  0.03219229727983475,\n",
              "  0.031201167032122612,\n",
              "  0.029826996847987175,\n",
              "  0.028878286480903625,\n",
              "  0.02787393517792225,\n",
              "  0.02675727941095829,\n",
              "  0.026143958792090416,\n",
              "  0.025273233652114868,\n",
              "  0.024074336513876915,\n",
              "  0.02369794435799122,\n",
              "  0.022914372384548187,\n",
              "  0.02159889228641987,\n",
              "  0.0209455918520689,\n",
              "  0.02047565020620823,\n",
              "  0.01995767094194889,\n",
              "  0.019075702875852585,\n",
              "  0.018657175824046135,\n",
              "  0.017829595133662224,\n",
              "  0.01721084676682949,\n",
              "  0.016693728044629097,\n",
              "  0.01629132777452469,\n",
              "  0.015748385339975357,\n",
              "  0.014932313933968544,\n",
              "  0.014682146720588207],\n",
              " 'val_accuracy': [0.9124000072479248,\n",
              "  0.9259999990463257,\n",
              "  0.9401999711990356,\n",
              "  0.9470000267028809,\n",
              "  0.9520000219345093,\n",
              "  0.9599999785423279,\n",
              "  0.9634000062942505,\n",
              "  0.9488000273704529,\n",
              "  0.9675999879837036,\n",
              "  0.9666000008583069,\n",
              "  0.9710000157356262,\n",
              "  0.9610000252723694,\n",
              "  0.9692000150680542,\n",
              "  0.9729999899864197,\n",
              "  0.9733999967575073,\n",
              "  0.9751999974250793,\n",
              "  0.9746000170707703,\n",
              "  0.9760000109672546,\n",
              "  0.9771999716758728,\n",
              "  0.9779999852180481,\n",
              "  0.9796000123023987,\n",
              "  0.9796000123023987,\n",
              "  0.9757999777793884,\n",
              "  0.9796000123023987,\n",
              "  0.9801999926567078,\n",
              "  0.9810000061988831,\n",
              "  0.9797999858856201,\n",
              "  0.9800000190734863,\n",
              "  0.9811999797821045,\n",
              "  0.9801999926567078,\n",
              "  0.9779999852180481,\n",
              "  0.9818000197410583,\n",
              "  0.9810000061988831,\n",
              "  0.9783999919891357,\n",
              "  0.9825999736785889,\n",
              "  0.9805999994277954,\n",
              "  0.9842000007629395,\n",
              "  0.9810000061988831,\n",
              "  0.9800000190734863,\n",
              "  0.9782000184059143,\n",
              "  0.9819999933242798,\n",
              "  0.9832000136375427,\n",
              "  0.9843999743461609,\n",
              "  0.9825999736785889,\n",
              "  0.982200026512146,\n",
              "  0.9814000129699707,\n",
              "  0.9829999804496765,\n",
              "  0.9829999804496765,\n",
              "  0.9846000075340271,\n",
              "  0.9750000238418579,\n",
              "  0.9842000007629395,\n",
              "  0.9797999858856201,\n",
              "  0.9847999811172485,\n",
              "  0.9842000007629395,\n",
              "  0.9814000129699707,\n",
              "  0.9775999784469604,\n",
              "  0.9832000136375427,\n",
              "  0.9850000143051147,\n",
              "  0.9837999939918518,\n",
              "  0.9811999797821045],\n",
              " 'val_loss': [0.3094364404678345,\n",
              "  0.25844210386276245,\n",
              "  0.207052543759346,\n",
              "  0.18419793248176575,\n",
              "  0.1644989550113678,\n",
              "  0.1484522521495819,\n",
              "  0.1285218596458435,\n",
              "  0.16350869834423065,\n",
              "  0.11152614653110504,\n",
              "  0.10552141070365906,\n",
              "  0.09940700232982635,\n",
              "  0.11772702634334564,\n",
              "  0.09713973850011826,\n",
              "  0.09230490028858185,\n",
              "  0.08663490414619446,\n",
              "  0.07891954481601715,\n",
              "  0.07792989164590836,\n",
              "  0.0794861912727356,\n",
              "  0.0737195760011673,\n",
              "  0.0733480378985405,\n",
              "  0.0668065994977951,\n",
              "  0.06804010272026062,\n",
              "  0.07556509226560593,\n",
              "  0.06941143423318863,\n",
              "  0.06456431746482849,\n",
              "  0.061795324087142944,\n",
              "  0.0651191845536232,\n",
              "  0.06510252505540848,\n",
              "  0.0592462532222271,\n",
              "  0.058433692902326584,\n",
              "  0.0774831771850586,\n",
              "  0.05736883729696274,\n",
              "  0.05550855025649071,\n",
              "  0.06324084848165512,\n",
              "  0.0566798597574234,\n",
              "  0.06111874431371689,\n",
              "  0.05447635427117348,\n",
              "  0.05619990825653076,\n",
              "  0.060167405754327774,\n",
              "  0.060601115226745605,\n",
              "  0.0521288700401783,\n",
              "  0.05100662261247635,\n",
              "  0.05274021625518799,\n",
              "  0.05232132598757744,\n",
              "  0.05626741796731949,\n",
              "  0.05505124479532242,\n",
              "  0.052116669714450836,\n",
              "  0.052865538746118546,\n",
              "  0.05057503283023834,\n",
              "  0.07758566737174988,\n",
              "  0.05365855619311333,\n",
              "  0.06045326963067055,\n",
              "  0.05115222930908203,\n",
              "  0.05019053444266319,\n",
              "  0.05680910497903824,\n",
              "  0.07068809866905212,\n",
              "  0.0530749075114727,\n",
              "  0.05091653764247894,\n",
              "  0.05202643573284149,\n",
              "  0.05683693662285805]}"
            ]
          },
          "metadata": {},
          "execution_count": 18
        }
      ]
    },
    {
      "cell_type": "code",
      "metadata": {
        "colab": {
          "base_uri": "https://localhost:8080/",
          "height": 324
        },
        "id": "_uu7cHO9Yaws",
        "outputId": "9056a23c-862d-4a1c-9272-e1dd3663ae1b"
      },
      "source": [
        "pd.DataFrame(model_history.history).plot(figsize=(8,5))\n",
        "plt.grid(True)\n",
        "plt.gca().set_ylim(0,1)\n",
        "\n",
        "plt.show()"
      ],
      "execution_count": 19,
      "outputs": [
        {
          "output_type": "display_data",
          "data": {
            "image/png": "[encoded data removed]",
            "text/plain": [
              "<Figure size 576x360 with 1 Axes>"
            ]
          },
          "metadata": {
            "needs_background": "light"
          }
        }
      ]
    },
    {
      "cell_type": "code",
      "metadata": {
        "colab": {
          "base_uri": "https://localhost:8080/"
        },
        "id": "k2ZrSDFJZOr-",
        "outputId": "70170201-0a75-43c5-c72a-8f6ac35656f7"
      },
      "source": [
        "ev = model.evaluate(X_test_n, Y_test)"
      ],
      "execution_count": 20,
      "outputs": [
        {
          "output_type": "stream",
          "name": "stdout",
          "text": [
            "313/313 [==============================] - 2s 6ms/step - loss: 0.0620 - accuracy: 0.9815\n"
          ]
        }
      ]
    },
    {
      "cell_type": "code",
      "metadata": {
        "colab": {
          "base_uri": "https://localhost:8080/"
        },
        "id": "r1z2715OZVfI",
        "outputId": "873a5925-959f-49bf-901b-a31a821f1a7c"
      },
      "source": [
        "ev"
      ],
      "execution_count": 21,
      "outputs": [
        {
          "output_type": "execute_result",
          "data": {
            "text/plain": [
              "[0.062020208686590195, 0.9815000295639038]"
            ]
          },
          "metadata": {},
          "execution_count": 21
        }
      ]
    },
    {
      "cell_type": "code",
      "metadata": {
        "id": "i5Sks-uYZZUM"
      },
      "source": [
        "X_new =X_test[:3]"
      ],
      "execution_count": 22,
      "outputs": []
    },
    {
      "cell_type": "code",
      "metadata": {
        "id": "2c97CD1kZdKp"
      },
      "source": [
        "predict_x=model.predict(X_new) \n",
        "classes_x=np.argmax(predict_x,axis=1)"
      ],
      "execution_count": 23,
      "outputs": []
    },
    {
      "cell_type": "code",
      "metadata": {
        "colab": {
          "base_uri": "https://localhost:8080/"
        },
        "id": "QX1_VDVVZfiU",
        "outputId": "7a8a31dd-c920-4875-9975-8d427b95d476"
      },
      "source": [
        "\n",
        "Y_test[:3]"
      ],
      "execution_count": 24,
      "outputs": [
        {
          "output_type": "execute_result",
          "data": {
            "text/plain": [
              "array([7, 2, 1], dtype=uint8)"
            ]
          },
          "metadata": {},
          "execution_count": 24
        }
      ]
    },
    {
      "cell_type": "code",
      "metadata": {
        "colab": {
          "base_uri": "https://localhost:8080/",
          "height": 282
        },
        "id": "d_MgL0goZiXD",
        "outputId": "b1dbee67-cb32-4203-a26f-a059ace2c279"
      },
      "source": [
        "print(plt.imshow(X_test[7].reshape((28, 28))))"
      ],
      "execution_count": 31,
      "outputs": [
        {
          "output_type": "stream",
          "name": "stdout",
          "text": [
            "AxesImage(54,36;334.8x217.44)\n"
          ]
        },
        {
          "output_type": "display_data",
          "data": {
            "image/png": "[encoded data removed]",
            "text/plain": [
              "<Figure size 432x288 with 1 Axes>"
            ]
          },
          "metadata": {
            "needs_background": "light"
          }
        }
      ]
    },
    {
      "cell_type": "code",
      "metadata": {
        "id": "ZI94UtFwZmWU"
      },
      "source": [
        ""
      ],
      "execution_count": null,
      "outputs": []
    }
  ]
}