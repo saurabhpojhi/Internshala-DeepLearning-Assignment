{
 "cells": [
  {
   "cell_type": "code",
   "execution_count": 19,
   "id": "fd712dd5",
   "metadata": {},
   "outputs": [],
   "source": [
    "import pandas as pd\n",
    "import numpy as np\n",
    "import matplotlib  as plt\n",
    "import seaborn as sns\n"
   ]
  },
  {
   "cell_type": "code",
   "execution_count": 20,
   "id": "fbd5f2f1",
   "metadata": {},
   "outputs": [],
   "source": [
    " # Import data in dataframe ‘data1’ using python"
   ]
  },
  {
   "cell_type": "code",
   "execution_count": 21,
   "id": "eb9932c7",
   "metadata": {},
   "outputs": [],
   "source": [
    "data1 =pd.read_csv(\"Assignment_2_fifa18_clean.csv\")\n"
   ]
  },
  {
   "cell_type": "code",
   "execution_count": 22,
   "id": "a570f222",
   "metadata": {},
   "outputs": [],
   "source": [
    " # Output the first 5 rows of the dataframe ‘data1’ "
   ]
  },
  {
   "cell_type": "code",
   "execution_count": 23,
   "id": "e3492e9d",
   "metadata": {},
   "outputs": [
    {
     "data": {
      "text/html": [
       "<div>\n",
       "<style scoped>\n",
       "    .dataframe tbody tr th:only-of-type {\n",
       "        vertical-align: middle;\n",
       "    }\n",
       "\n",
       "    .dataframe tbody tr th {\n",
       "        vertical-align: top;\n",
       "    }\n",
       "\n",
       "    .dataframe thead th {\n",
       "        text-align: right;\n",
       "    }\n",
       "</style>\n",
       "<table border=\"1\" class=\"dataframe\">\n",
       "  <thead>\n",
       "    <tr style=\"text-align: right;\">\n",
       "      <th></th>\n",
       "      <th>Wage_Euro</th>\n",
       "      <th>Value_Euro</th>\n",
       "      <th>Name</th>\n",
       "      <th>Age</th>\n",
       "      <th>Nationality</th>\n",
       "      <th>Overall</th>\n",
       "      <th>Potential</th>\n",
       "      <th>Club</th>\n",
       "      <th>Special</th>\n",
       "      <th>Acceleration</th>\n",
       "      <th>Aggression</th>\n",
       "      <th>Agility</th>\n",
       "    </tr>\n",
       "  </thead>\n",
       "  <tbody>\n",
       "    <tr>\n",
       "      <th>0</th>\n",
       "      <td>565000</td>\n",
       "      <td>95500000</td>\n",
       "      <td>Cristiano Ronaldo</td>\n",
       "      <td>32</td>\n",
       "      <td>Portugal</td>\n",
       "      <td>94</td>\n",
       "      <td>94</td>\n",
       "      <td>Real Madrid CF</td>\n",
       "      <td>2228</td>\n",
       "      <td>89.0</td>\n",
       "      <td>63.0</td>\n",
       "      <td>89.0</td>\n",
       "    </tr>\n",
       "    <tr>\n",
       "      <th>1</th>\n",
       "      <td>565000</td>\n",
       "      <td>105000000</td>\n",
       "      <td>L. Messi</td>\n",
       "      <td>30</td>\n",
       "      <td>Argentina</td>\n",
       "      <td>93</td>\n",
       "      <td>93</td>\n",
       "      <td>FC Barcelona</td>\n",
       "      <td>2154</td>\n",
       "      <td>92.0</td>\n",
       "      <td>48.0</td>\n",
       "      <td>90.0</td>\n",
       "    </tr>\n",
       "    <tr>\n",
       "      <th>2</th>\n",
       "      <td>280000</td>\n",
       "      <td>123000000</td>\n",
       "      <td>Neymar</td>\n",
       "      <td>25</td>\n",
       "      <td>Brazil</td>\n",
       "      <td>92</td>\n",
       "      <td>94</td>\n",
       "      <td>Paris Saint-Germain</td>\n",
       "      <td>2100</td>\n",
       "      <td>94.0</td>\n",
       "      <td>56.0</td>\n",
       "      <td>96.0</td>\n",
       "    </tr>\n",
       "    <tr>\n",
       "      <th>3</th>\n",
       "      <td>510000</td>\n",
       "      <td>97000000</td>\n",
       "      <td>L. Suárez</td>\n",
       "      <td>30</td>\n",
       "      <td>Uruguay</td>\n",
       "      <td>92</td>\n",
       "      <td>92</td>\n",
       "      <td>FC Barcelona</td>\n",
       "      <td>2291</td>\n",
       "      <td>88.0</td>\n",
       "      <td>78.0</td>\n",
       "      <td>86.0</td>\n",
       "    </tr>\n",
       "    <tr>\n",
       "      <th>4</th>\n",
       "      <td>230000</td>\n",
       "      <td>61000000</td>\n",
       "      <td>M. Neuer</td>\n",
       "      <td>31</td>\n",
       "      <td>Germany</td>\n",
       "      <td>92</td>\n",
       "      <td>92</td>\n",
       "      <td>FC Bayern Munich</td>\n",
       "      <td>1493</td>\n",
       "      <td>58.0</td>\n",
       "      <td>29.0</td>\n",
       "      <td>52.0</td>\n",
       "    </tr>\n",
       "  </tbody>\n",
       "</table>\n",
       "</div>"
      ],
      "text/plain": [
       "   Wage_Euro  Value_Euro               Name  Age Nationality  Overall  \\\n",
       "0     565000    95500000  Cristiano Ronaldo   32    Portugal       94   \n",
       "1     565000   105000000           L. Messi   30   Argentina       93   \n",
       "2     280000   123000000             Neymar   25      Brazil       92   \n",
       "3     510000    97000000          L. Suárez   30     Uruguay       92   \n",
       "4     230000    61000000           M. Neuer   31     Germany       92   \n",
       "\n",
       "   Potential                 Club  Special  Acceleration  Aggression  Agility  \n",
       "0         94       Real Madrid CF     2228          89.0        63.0     89.0  \n",
       "1         93         FC Barcelona     2154          92.0        48.0     90.0  \n",
       "2         94  Paris Saint-Germain     2100          94.0        56.0     96.0  \n",
       "3         92         FC Barcelona     2291          88.0        78.0     86.0  \n",
       "4         92     FC Bayern Munich     1493          58.0        29.0     52.0  "
      ]
     },
     "execution_count": 23,
     "metadata": {},
     "output_type": "execute_result"
    }
   ],
   "source": [
    "data1.head()"
   ]
  },
  {
   "cell_type": "code",
   "execution_count": 24,
   "id": "d75767e3",
   "metadata": {},
   "outputs": [],
   "source": [
    " # Output some basic statistical details like percentile, mean, std etc. of numeric columns of ‘data1’ "
   ]
  },
  {
   "cell_type": "code",
   "execution_count": 25,
   "id": "439e6f31",
   "metadata": {},
   "outputs": [
    {
     "data": {
      "text/html": [
       "<div>\n",
       "<style scoped>\n",
       "    .dataframe tbody tr th:only-of-type {\n",
       "        vertical-align: middle;\n",
       "    }\n",
       "\n",
       "    .dataframe tbody tr th {\n",
       "        vertical-align: top;\n",
       "    }\n",
       "\n",
       "    .dataframe thead th {\n",
       "        text-align: right;\n",
       "    }\n",
       "</style>\n",
       "<table border=\"1\" class=\"dataframe\">\n",
       "  <thead>\n",
       "    <tr style=\"text-align: right;\">\n",
       "      <th></th>\n",
       "      <th>Wage_Euro</th>\n",
       "      <th>Value_Euro</th>\n",
       "      <th>Age</th>\n",
       "      <th>Overall</th>\n",
       "      <th>Potential</th>\n",
       "      <th>Special</th>\n",
       "      <th>Acceleration</th>\n",
       "      <th>Aggression</th>\n",
       "      <th>Agility</th>\n",
       "    </tr>\n",
       "  </thead>\n",
       "  <tbody>\n",
       "    <tr>\n",
       "      <th>count</th>\n",
       "      <td>17981.000000</td>\n",
       "      <td>1.798100e+04</td>\n",
       "      <td>17981.000000</td>\n",
       "      <td>17981.000000</td>\n",
       "      <td>17981.000000</td>\n",
       "      <td>17981.000000</td>\n",
       "      <td>17897.000000</td>\n",
       "      <td>17913.000000</td>\n",
       "      <td>17910.000000</td>\n",
       "    </tr>\n",
       "    <tr>\n",
       "      <th>mean</th>\n",
       "      <td>11546.966242</td>\n",
       "      <td>2.385390e+06</td>\n",
       "      <td>25.144541</td>\n",
       "      <td>66.247984</td>\n",
       "      <td>71.190813</td>\n",
       "      <td>1594.095100</td>\n",
       "      <td>64.576521</td>\n",
       "      <td>55.791492</td>\n",
       "      <td>63.333613</td>\n",
       "    </tr>\n",
       "    <tr>\n",
       "      <th>std</th>\n",
       "      <td>23080.000139</td>\n",
       "      <td>5.353970e+06</td>\n",
       "      <td>4.614272</td>\n",
       "      <td>6.987965</td>\n",
       "      <td>6.102199</td>\n",
       "      <td>272.151435</td>\n",
       "      <td>14.918313</td>\n",
       "      <td>17.476572</td>\n",
       "      <td>14.802800</td>\n",
       "    </tr>\n",
       "    <tr>\n",
       "      <th>min</th>\n",
       "      <td>0.000000</td>\n",
       "      <td>0.000000e+00</td>\n",
       "      <td>16.000000</td>\n",
       "      <td>46.000000</td>\n",
       "      <td>46.000000</td>\n",
       "      <td>728.000000</td>\n",
       "      <td>11.000000</td>\n",
       "      <td>11.000000</td>\n",
       "      <td>14.000000</td>\n",
       "    </tr>\n",
       "    <tr>\n",
       "      <th>25%</th>\n",
       "      <td>2000.000000</td>\n",
       "      <td>3.000000e+05</td>\n",
       "      <td>21.000000</td>\n",
       "      <td>62.000000</td>\n",
       "      <td>67.000000</td>\n",
       "      <td>1449.000000</td>\n",
       "      <td>56.000000</td>\n",
       "      <td>43.000000</td>\n",
       "      <td>55.000000</td>\n",
       "    </tr>\n",
       "    <tr>\n",
       "      <th>50%</th>\n",
       "      <td>4000.000000</td>\n",
       "      <td>6.750000e+05</td>\n",
       "      <td>25.000000</td>\n",
       "      <td>66.000000</td>\n",
       "      <td>71.000000</td>\n",
       "      <td>1633.000000</td>\n",
       "      <td>67.000000</td>\n",
       "      <td>59.000000</td>\n",
       "      <td>65.000000</td>\n",
       "    </tr>\n",
       "    <tr>\n",
       "      <th>75%</th>\n",
       "      <td>12000.000000</td>\n",
       "      <td>2.100000e+06</td>\n",
       "      <td>28.000000</td>\n",
       "      <td>71.000000</td>\n",
       "      <td>75.000000</td>\n",
       "      <td>1786.000000</td>\n",
       "      <td>75.000000</td>\n",
       "      <td>69.000000</td>\n",
       "      <td>74.000000</td>\n",
       "    </tr>\n",
       "    <tr>\n",
       "      <th>max</th>\n",
       "      <td>565000.000000</td>\n",
       "      <td>1.230000e+08</td>\n",
       "      <td>47.000000</td>\n",
       "      <td>94.000000</td>\n",
       "      <td>94.000000</td>\n",
       "      <td>2291.000000</td>\n",
       "      <td>96.000000</td>\n",
       "      <td>96.000000</td>\n",
       "      <td>96.000000</td>\n",
       "    </tr>\n",
       "  </tbody>\n",
       "</table>\n",
       "</div>"
      ],
      "text/plain": [
       "           Wage_Euro    Value_Euro           Age       Overall     Potential  \\\n",
       "count   17981.000000  1.798100e+04  17981.000000  17981.000000  17981.000000   \n",
       "mean    11546.966242  2.385390e+06     25.144541     66.247984     71.190813   \n",
       "std     23080.000139  5.353970e+06      4.614272      6.987965      6.102199   \n",
       "min         0.000000  0.000000e+00     16.000000     46.000000     46.000000   \n",
       "25%      2000.000000  3.000000e+05     21.000000     62.000000     67.000000   \n",
       "50%      4000.000000  6.750000e+05     25.000000     66.000000     71.000000   \n",
       "75%     12000.000000  2.100000e+06     28.000000     71.000000     75.000000   \n",
       "max    565000.000000  1.230000e+08     47.000000     94.000000     94.000000   \n",
       "\n",
       "            Special  Acceleration    Aggression       Agility  \n",
       "count  17981.000000  17897.000000  17913.000000  17910.000000  \n",
       "mean    1594.095100     64.576521     55.791492     63.333613  \n",
       "std      272.151435     14.918313     17.476572     14.802800  \n",
       "min      728.000000     11.000000     11.000000     14.000000  \n",
       "25%     1449.000000     56.000000     43.000000     55.000000  \n",
       "50%     1633.000000     67.000000     59.000000     65.000000  \n",
       "75%     1786.000000     75.000000     69.000000     74.000000  \n",
       "max     2291.000000     96.000000     96.000000     96.000000  "
      ]
     },
     "execution_count": 25,
     "metadata": {},
     "output_type": "execute_result"
    }
   ],
   "source": [
    "data1.describe()"
   ]
  },
  {
   "cell_type": "code",
   "execution_count": 26,
   "id": "be1472f7",
   "metadata": {},
   "outputs": [],
   "source": [
    " # Plot a distribution plot for the ‘Wage_Euro’ column"
   ]
  },
  {
   "cell_type": "code",
   "execution_count": 27,
   "id": "74cb8481",
   "metadata": {},
   "outputs": [
    {
     "name": "stderr",
     "output_type": "stream",
     "text": [
      "C:\\ProgramData\\Anaconda3\\lib\\site-packages\\seaborn\\distributions.py:2557: FutureWarning: `distplot` is a deprecated function and will be removed in a future version. Please adapt your code to use either `displot` (a figure-level function with similar flexibility) or `histplot` (an axes-level function for histograms).\n",
      "  warnings.warn(msg, FutureWarning)\n"
     ]
    },
    {
     "data": {
      "text/plain": [
       "<AxesSubplot:xlabel='Wage_Euro', ylabel='Density'>"
      ]
     },
     "execution_count": 27,
     "metadata": {},
     "output_type": "execute_result"
    },
    {
     "data": {
      "image/png": "[encoded data removed]",
      "text/plain": [
       "<Figure size 432x288 with 1 Axes>"
      ]
     },
     "metadata": {
      "needs_background": "light"
     },
     "output_type": "display_data"
    }
   ],
   "source": [
    "sns.distplot(data1.Wage_Euro)"
   ]
  },
  {
   "cell_type": "code",
   "execution_count": 28,
   "id": "03205ec4",
   "metadata": {},
   "outputs": [],
   "source": [
    " # Plot a joint plot between ‘Wage_Euro’ and ‘Overall’ column\n",
    " "
   ]
  },
  {
   "cell_type": "code",
   "execution_count": 31,
   "id": "c824f408",
   "metadata": {},
   "outputs": [
    {
     "data": {
      "text/plain": [
       "<seaborn.axisgrid.JointGrid at 0xe5eaa600a0>"
      ]
     },
     "execution_count": 31,
     "metadata": {},
     "output_type": "execute_result"
    },
    {
     "data": {
      "image/png": "[encoded data removed]",
      "text/plain": [
       "<Figure size 432x432 with 3 Axes>"
      ]
     },
     "metadata": {
      "needs_background": "light"
     },
     "output_type": "display_data"
    }
   ],
   "source": [
    "sns.jointplot(x=\"Wage_Euro\", y=\"Overall\", data=data1)"
   ]
  },
  {
   "cell_type": "code",
   "execution_count": null,
   "id": "4b6de753",
   "metadata": {},
   "outputs": [],
   "source": []
  }
 ],
 "metadata": {
  "kernelspec": {
   "display_name": "Python 3",
   "language": "python",
   "name": "python3"
  },
  "language_info": {
   "codemirror_mode": {
    "name": "ipython",
    "version": 3
   },
   "file_extension": ".py",
   "mimetype": "text/x-python",
   "name": "python",
   "nbconvert_exporter": "python",
   "pygments_lexer": "ipython3",
   "version": "3.8.8"
  }
 },
 "nbformat": 4,
 "nbformat_minor": 5
}
