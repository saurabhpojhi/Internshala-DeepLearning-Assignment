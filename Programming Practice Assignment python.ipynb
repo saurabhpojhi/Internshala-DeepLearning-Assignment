{
 "cells": [
  {
   "cell_type": "code",
   "execution_count": 1,
   "id": "1f47643d",
   "metadata": {},
   "outputs": [],
   "source": [
    "import pandas as pd\n",
    "import numpy as np"
   ]
  },
  {
   "cell_type": "code",
   "execution_count": 2,
   "id": "eaf858b0",
   "metadata": {},
   "outputs": [],
   "source": [
    "str =\"Python course\""
   ]
  },
  {
   "cell_type": "code",
   "execution_count": 3,
   "id": "33919083",
   "metadata": {},
   "outputs": [],
   "source": [
    " # The first character of the ‘str’ "
   ]
  },
  {
   "cell_type": "code",
   "execution_count": 6,
   "id": "35b50c09",
   "metadata": {},
   "outputs": [
    {
     "data": {
      "text/plain": [
       "'P'"
      ]
     },
     "execution_count": 6,
     "metadata": {},
     "output_type": "execute_result"
    }
   ],
   "source": [
    "str[0]"
   ]
  },
  {
   "cell_type": "code",
   "execution_count": 7,
   "id": "d973b679",
   "metadata": {},
   "outputs": [],
   "source": [
    " # 2nd to 5th character of the ‘str’"
   ]
  },
  {
   "cell_type": "code",
   "execution_count": 8,
   "id": "87c21471",
   "metadata": {},
   "outputs": [
    {
     "data": {
      "text/plain": [
       "'tho'"
      ]
     },
     "execution_count": 8,
     "metadata": {},
     "output_type": "execute_result"
    }
   ],
   "source": [
    "str[2:5]"
   ]
  },
  {
   "cell_type": "code",
   "execution_count": 9,
   "id": "24efeb98",
   "metadata": {},
   "outputs": [],
   "source": [
    " # Last character of the ‘str’"
   ]
  },
  {
   "cell_type": "code",
   "execution_count": 10,
   "id": "41b17636",
   "metadata": {},
   "outputs": [
    {
     "data": {
      "text/plain": [
       "'e'"
      ]
     },
     "execution_count": 10,
     "metadata": {},
     "output_type": "execute_result"
    }
   ],
   "source": [
    "str[-1]"
   ]
  },
  {
   "cell_type": "code",
   "execution_count": 11,
   "id": "9a9f1c8a",
   "metadata": {},
   "outputs": [],
   "source": [
    " #  The reverse of ‘str’ i.e. 'esruoc nohtyP'"
   ]
  },
  {
   "cell_type": "code",
   "execution_count": 15,
   "id": "83b79281",
   "metadata": {},
   "outputs": [],
   "source": [
    " reverse = str[::-1]"
   ]
  },
  {
   "cell_type": "code",
   "execution_count": 16,
   "id": "c62c6f00",
   "metadata": {},
   "outputs": [
    {
     "name": "stdout",
     "output_type": "stream",
     "text": [
      "esruoc nohtyP\n"
     ]
    }
   ],
   "source": [
    "print(reverse)"
   ]
  },
  {
   "cell_type": "code",
   "execution_count": 17,
   "id": "ae0a3975",
   "metadata": {},
   "outputs": [],
   "source": [
    "# Every alternate character (1st, 3rd, 5th…..) of ‘str’"
   ]
  },
  {
   "cell_type": "code",
   "execution_count": 24,
   "id": "21805333",
   "metadata": {},
   "outputs": [
    {
     "data": {
      "text/plain": [
       "'yth'"
      ]
     },
     "execution_count": 24,
     "metadata": {},
     "output_type": "execute_result"
    }
   ],
   "source": [
    "str[1:4]"
   ]
  },
  {
   "cell_type": "code",
   "execution_count": null,
   "id": "042c560a",
   "metadata": {},
   "outputs": [],
   "source": []
  }
 ],
 "metadata": {
  "kernelspec": {
   "display_name": "Python 3",
   "language": "python",
   "name": "python3"
  },
  "language_info": {
   "codemirror_mode": {
    "name": "ipython",
    "version": 3
   },
   "file_extension": ".py",
   "mimetype": "text/x-python",
   "name": "python",
   "nbconvert_exporter": "python",
   "pygments_lexer": "ipython3",
   "version": "3.8.8"
  }
 },
 "nbformat": 4,
 "nbformat_minor": 5
}
