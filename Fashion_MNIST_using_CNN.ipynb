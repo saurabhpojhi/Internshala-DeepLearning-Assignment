{
  "nbformat": 4,
  "nbformat_minor": 0,
  "metadata": {
    "colab": {
      "name": "Fashion MNIST using CNN.ipynb",
      "provenance": [],
      "collapsed_sections": []
    },
    "kernelspec": {
      "name": "python3",
      "display_name": "Python 3"
    },
    "language_info": {
      "name": "python"
    }
  },
  "cells": [
    {
      "cell_type": "code",
      "metadata": {
        "id": "XPuCxsBj2iUa"
      },
      "source": [
        "import numpy as np \n",
        "import pandas as pd\n",
        "%matplotlib inline\n",
        "import matplotlib.pyplot as plt\n",
        "import matplotlib as mpl\n",
        "import tensorflow as tf\n",
        "from tensorflow import keras"
      ],
      "execution_count": 31,
      "outputs": []
    },
    {
      "cell_type": "markdown",
      "metadata": {
        "id": "H030_QiR5YeI"
      },
      "source": [
        "Load mnist dataset"
      ]
    },
    {
      "cell_type": "code",
      "metadata": {
        "colab": {
          "base_uri": "https://localhost:8080/"
        },
        "id": "ZC4OmAjl4ju0",
        "outputId": "677cb264-e88b-4abe-ce83-50ffe31d7ebb"
      },
      "source": [
        "fashion_mnist = keras.datasets.fashion_mnist\n",
        "(X_train_full, Y_train_full), (X_test, Y_test) =fashion_mnist.load_data()"
      ],
      "execution_count": 4,
      "outputs": [
        {
          "output_type": "stream",
          "name": "stdout",
          "text": [
            "Downloading data from https://storage.googleapis.com/tensorflow/tf-keras-datasets/train-labels-idx1-ubyte.gz\n",
            "32768/29515 [=================================] - 0s 0us/step\n",
            "40960/29515 [=========================================] - 0s 0us/step\n",
            "Downloading data from https://storage.googleapis.com/tensorflow/tf-keras-datasets/train-images-idx3-ubyte.gz\n",
            "26427392/26421880 [==============================] - 0s 0us/step\n",
            "26435584/26421880 [==============================] - 0s 0us/step\n",
            "Downloading data from https://storage.googleapis.com/tensorflow/tf-keras-datasets/t10k-labels-idx1-ubyte.gz\n",
            "16384/5148 [===============================================================================================] - 0s 0us/step\n",
            "Downloading data from https://storage.googleapis.com/tensorflow/tf-keras-datasets/t10k-images-idx3-ubyte.gz\n",
            "4423680/4422102 [==============================] - 0s 0us/step\n",
            "4431872/4422102 [==============================] - 0s 0us/step\n"
          ]
        }
      ]
    },
    {
      "cell_type": "code",
      "metadata": {
        "id": "1p_p0Kwd5mdD"
      },
      "source": [
        "class_name =[\"T-shirt/top\", \" Trouser\", \" Pullower\", \"Dress\", \"Coat\",\"sandal\", \"Shirt\", \"Sneaker\", \"Bag\",\"Ankel oot\"]"
      ],
      "execution_count": 6,
      "outputs": []
    },
    {
      "cell_type": "markdown",
      "metadata": {
        "id": "Sw4ObqRu5c0n"
      },
      "source": [
        "Data reshape"
      ]
    },
    {
      "cell_type": "code",
      "metadata": {
        "id": "dBl8b1fm7F0B"
      },
      "source": [
        "X_train_full = X_train_full.reshape((60000, 28, 28, 1))\n",
        "X_test = X_test.reshape((10000, 28, 28, 1))"
      ],
      "execution_count": 11,
      "outputs": []
    },
    {
      "cell_type": "markdown",
      "metadata": {
        "id": "zdJwJ0bc7_I3"
      },
      "source": [
        "Data normalization"
      ]
    },
    {
      "cell_type": "code",
      "metadata": {
        "id": "DwqZXHmR79Yl"
      },
      "source": [
        "X_train_n = X_train_full / 255.\n",
        "X_test_n = X_test / 255."
      ],
      "execution_count": 20,
      "outputs": []
    },
    {
      "cell_type": "code",
      "metadata": {
        "id": "7KIitOdv8QhX"
      },
      "source": [
        "X_valid, X_train = X_train_n[:5000], X_train_n[5000:]\n",
        "Y_valid, Y_train = Y_train_full[:5000], Y_train_full[5000:]\n",
        "X_test = X_test_n"
      ],
      "execution_count": 21,
      "outputs": []
    },
    {
      "cell_type": "markdown",
      "metadata": {
        "id": "DNPgFQ3J9DDu"
      },
      "source": [
        "create model architecture"
      ]
    },
    {
      "cell_type": "code",
      "metadata": {
        "id": "PYdVp7g49A1O"
      },
      "source": [
        "np.random.seed(42)\n",
        "tf.random.set_seed(42)"
      ],
      "execution_count": 22,
      "outputs": []
    },
    {
      "cell_type": "markdown",
      "metadata": {
        "id": "CMN2JQl69ii0"
      },
      "source": [
        "create model cnn"
      ]
    },
    {
      "cell_type": "code",
      "metadata": {
        "id": "sasHgDy79JkQ"
      },
      "source": [
        "model = keras.models.Sequential()\n",
        "model.add(keras.layers.Conv2D(filters= 32, kernel_size= (3,3), strides=1, padding='valid', activation='relu', input_shape=(28, 28, 1)))\n",
        "model.add(keras.layers.MaxPool2D((2, 2)))\n",
        "\n",
        "model.add(keras.layers.Flatten())\n",
        "model.add(keras.layers.Dense(300, activation=\"relu\"))\n",
        "model.add(keras.layers.Dense(100, activation=\"relu\"))\n",
        "model.add(keras.layers.Dense(10, activation=\"softmax\"))"
      ],
      "execution_count": 23,
      "outputs": []
    },
    {
      "cell_type": "code",
      "metadata": {
        "colab": {
          "base_uri": "https://localhost:8080/"
        },
        "id": "3-vI_CF5_C3K",
        "outputId": "53ca20af-49de-4d6c-e719-2856a1f11529"
      },
      "source": [
        "model.summary()"
      ],
      "execution_count": 24,
      "outputs": [
        {
          "output_type": "stream",
          "name": "stdout",
          "text": [
            "Model: \"sequential_1\"\n",
            "_________________________________________________________________\n",
            "Layer (type)                 Output Shape              Param #   \n",
            "=================================================================\n",
            "conv2d_1 (Conv2D)            (None, 26, 26, 32)        320       \n",
            "_________________________________________________________________\n",
            "max_pooling2d_1 (MaxPooling2 (None, 13, 13, 32)        0         \n",
            "_________________________________________________________________\n",
            "flatten_1 (Flatten)          (None, 5408)              0         \n",
            "_________________________________________________________________\n",
            "dense_3 (Dense)              (None, 300)               1622700   \n",
            "_________________________________________________________________\n",
            "dense_4 (Dense)              (None, 100)               30100     \n",
            "_________________________________________________________________\n",
            "dense_5 (Dense)              (None, 10)                1010      \n",
            "=================================================================\n",
            "Total params: 1,654,130\n",
            "Trainable params: 1,654,130\n",
            "Non-trainable params: 0\n",
            "_________________________________________________________________\n"
          ]
        }
      ]
    },
    {
      "cell_type": "code",
      "metadata": {
        "id": "uGayFaEB_F_Z"
      },
      "source": [
        "model.compile(loss=\"sparse_categorical_crossentropy\",\n",
        "              optimizer=\"sgd\",\n",
        "              metrics=[\"accuracy\"])"
      ],
      "execution_count": 32,
      "outputs": []
    },
    {
      "cell_type": "code",
      "metadata": {
        "colab": {
          "base_uri": "https://localhost:8080/"
        },
        "id": "6pyA_LNV_tud",
        "outputId": "35dd4b7b-0a75-4b6f-86a7-c47b895d82e2"
      },
      "source": [
        "model_history = model.fit(X_train, Y_train, epochs=10, batch_size= 64,\n",
        "                          validation_data=(X_valid, Y_valid))"
      ],
      "execution_count": 42,
      "outputs": [
        {
          "output_type": "stream",
          "name": "stdout",
          "text": [
            "Epoch 1/10\n",
            "860/860 [==============================] - 39s 45ms/step - loss: 0.3252 - accuracy: 0.8826 - val_loss: 0.3631 - val_accuracy: 0.8672\n",
            "Epoch 2/10\n",
            "860/860 [==============================] - 37s 44ms/step - loss: 0.3148 - accuracy: 0.8861 - val_loss: 0.3345 - val_accuracy: 0.8818\n",
            "Epoch 3/10\n",
            "860/860 [==============================] - 37s 43ms/step - loss: 0.3057 - accuracy: 0.8875 - val_loss: 0.5986 - val_accuracy: 0.7908\n",
            "Epoch 4/10\n",
            "860/860 [==============================] - 38s 44ms/step - loss: 0.2971 - accuracy: 0.8927 - val_loss: 0.3234 - val_accuracy: 0.8840\n",
            "Epoch 5/10\n",
            "860/860 [==============================] - 39s 45ms/step - loss: 0.2911 - accuracy: 0.8936 - val_loss: 0.3108 - val_accuracy: 0.8878\n",
            "Epoch 6/10\n",
            "860/860 [==============================] - 37s 43ms/step - loss: 0.2819 - accuracy: 0.8968 - val_loss: 0.2993 - val_accuracy: 0.8972\n",
            "Epoch 7/10\n",
            "860/860 [==============================] - 37s 43ms/step - loss: 0.2755 - accuracy: 0.9001 - val_loss: 0.3258 - val_accuracy: 0.8880\n",
            "Epoch 8/10\n",
            "860/860 [==============================] - 38s 44ms/step - loss: 0.2692 - accuracy: 0.9015 - val_loss: 0.3865 - val_accuracy: 0.8524\n",
            "Epoch 9/10\n",
            "860/860 [==============================] - 38s 44ms/step - loss: 0.2635 - accuracy: 0.9033 - val_loss: 0.2999 - val_accuracy: 0.8924\n",
            "Epoch 10/10\n",
            "860/860 [==============================] - 39s 45ms/step - loss: 0.2571 - accuracy: 0.9059 - val_loss: 0.3124 - val_accuracy: 0.8850\n"
          ]
        }
      ]
    },
    {
      "cell_type": "code",
      "metadata": {
        "colab": {
          "base_uri": "https://localhost:8080/"
        },
        "id": "AGXU7Ni3D3GB",
        "outputId": "094a3e8d-868a-4223-ef5e-2e4dfb2fdf0b"
      },
      "source": [
        "model_history.history"
      ],
      "execution_count": 43,
      "outputs": [
        {
          "output_type": "execute_result",
          "data": {
            "text/plain": [
              "{'accuracy': [0.8825818300247192,\n",
              "  0.8860727548599243,\n",
              "  0.8875454664230347,\n",
              "  0.8927454352378845,\n",
              "  0.8936181664466858,\n",
              "  0.8968181610107422,\n",
              "  0.9001454710960388,\n",
              "  0.9015091061592102,\n",
              "  0.9032909274101257,\n",
              "  0.9059090614318848],\n",
              " 'loss': [0.3251953721046448,\n",
              "  0.31480270624160767,\n",
              "  0.30573415756225586,\n",
              "  0.29708656668663025,\n",
              "  0.29111525416374207,\n",
              "  0.28194883465766907,\n",
              "  0.27549678087234497,\n",
              "  0.26923683285713196,\n",
              "  0.26354482769966125,\n",
              "  0.2571025490760803],\n",
              " 'val_accuracy': [0.8672000169754028,\n",
              "  0.8817999958992004,\n",
              "  0.7907999753952026,\n",
              "  0.8840000033378601,\n",
              "  0.8877999782562256,\n",
              "  0.8971999883651733,\n",
              "  0.8880000114440918,\n",
              "  0.852400004863739,\n",
              "  0.8924000263214111,\n",
              "  0.8849999904632568],\n",
              " 'val_loss': [0.36307743191719055,\n",
              "  0.33451563119888306,\n",
              "  0.5985602736473083,\n",
              "  0.32339605689048767,\n",
              "  0.31077298521995544,\n",
              "  0.2992817759513855,\n",
              "  0.3257695436477661,\n",
              "  0.38650238513946533,\n",
              "  0.2998661994934082,\n",
              "  0.3124140202999115]}"
            ]
          },
          "metadata": {},
          "execution_count": 43
        }
      ]
    },
    {
      "cell_type": "code",
      "metadata": {
        "colab": {
          "base_uri": "https://localhost:8080/",
          "height": 324
        },
        "id": "wLKWH5xIHPiQ",
        "outputId": "d0d90976-00b3-49d8-b489-fa2029f392d7"
      },
      "source": [
        "pd.DataFrame(model_history.history).plot(figsize=(8,5))\n",
        "plt.grid(True)\n",
        "plt.gca().set_ylim(0,1)\n",
        "\n",
        "plt.show()"
      ],
      "execution_count": 44,
      "outputs": [
        {
          "output_type": "display_data",
          "data": {
            "image/png": "[encoded data removed]",
            "text/plain": [
              "<Figure size 576x360 with 1 Axes>"
            ]
          },
          "metadata": {
            "needs_background": "light"
          }
        }
      ]
    },
    {
      "cell_type": "code",
      "metadata": {
        "colab": {
          "base_uri": "https://localhost:8080/"
        },
        "id": "Wag_0LN9HTgg",
        "outputId": "6c830bbf-f429-4a3b-bae5-f203afddfc9e"
      },
      "source": [
        "ev = model.evaluate(X_test_n, Y_test)"
      ],
      "execution_count": 45,
      "outputs": [
        {
          "output_type": "stream",
          "name": "stdout",
          "text": [
            "313/313 [==============================] - 3s 10ms/step - loss: 2.8975 - accuracy: 0.1002\n"
          ]
        }
      ]
    },
    {
      "cell_type": "code",
      "metadata": {
        "colab": {
          "base_uri": "https://localhost:8080/"
        },
        "id": "VLlyFhweHnuT",
        "outputId": "68589acf-207d-40a9-baa1-5f73acc1c30f"
      },
      "source": [
        "ev"
      ],
      "execution_count": 46,
      "outputs": [
        {
          "output_type": "execute_result",
          "data": {
            "text/plain": [
              "[2.8975167274475098, 0.10019999742507935]"
            ]
          },
          "metadata": {},
          "execution_count": 46
        }
      ]
    },
    {
      "cell_type": "code",
      "metadata": {
        "id": "nx238a1jHptx"
      },
      "source": [
        "X_new =X_test[:3]"
      ],
      "execution_count": 47,
      "outputs": []
    },
    {
      "cell_type": "code",
      "metadata": {
        "id": "Xt32_RyZHzwv"
      },
      "source": [
        "predict_x=model.predict(X_new) \n",
        "classes_x=np.argmax(predict_x,axis=1)"
      ],
      "execution_count": 51,
      "outputs": []
    },
    {
      "cell_type": "code",
      "metadata": {
        "colab": {
          "base_uri": "https://localhost:8080/"
        },
        "id": "lTCB1fAjI4N9",
        "outputId": "0844c8af-9124-491e-ff98-81e71568a5d6"
      },
      "source": [
        "Y_test[:3]"
      ],
      "execution_count": 52,
      "outputs": [
        {
          "output_type": "execute_result",
          "data": {
            "text/plain": [
              "array([9, 2, 1], dtype=uint8)"
            ]
          },
          "metadata": {},
          "execution_count": 52
        }
      ]
    },
    {
      "cell_type": "code",
      "metadata": {
        "colab": {
          "base_uri": "https://localhost:8080/",
          "height": 282
        },
        "id": "aUtfczD4H_aW",
        "outputId": "47a9e61a-4e71-49a7-abde-086503c747b8"
      },
      "source": [
        "print(plt.imshow(X_test[5].reshape((28, 28))))"
      ],
      "execution_count": 65,
      "outputs": [
        {
          "output_type": "stream",
          "name": "stdout",
          "text": [
            "AxesImage(54,36;334.8x217.44)\n"
          ]
        },
        {
          "output_type": "display_data",
          "data": {
            "image/png": "[encoded data removed]",
            "text/plain": [
              "<Figure size 432x288 with 1 Axes>"
            ]
          },
          "metadata": {
            "needs_background": "light"
          }
        }
      ]
    },
    {
      "cell_type": "code",
      "metadata": {
        "colab": {
          "base_uri": "https://localhost:8080/"
        },
        "id": "B7LgeIYaJWzj",
        "outputId": "b73f3ec3-d46f-4755-933b-7fdabddf84a9"
      },
      "source": [
        "keras.backend.clear_session"
      ],
      "execution_count": 56,
      "outputs": [
        {
          "output_type": "execute_result",
          "data": {
            "text/plain": [
              "<function keras.backend.clear_session>"
            ]
          },
          "metadata": {},
          "execution_count": 56
        }
      ]
    },
    {
      "cell_type": "code",
      "metadata": {
        "id": "4Wx_Wa0KJq2p"
      },
      "source": [
        ""
      ],
      "execution_count": null,
      "outputs": []
    }
  ]
}